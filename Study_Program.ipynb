{
 "cells": [
  {
   "cell_type": "markdown",
   "metadata": {},
   "source": [
    "Syllabus\n",
    "\n",
    "## Module 1 - Python Basics\n",
    "\n",
    "Your first program\n",
    "\n",
    "Types\n",
    "\n",
    "Expressions and Variables\n",
    "\n",
    "String Operations\n",
    "\n",
    "## Module 2 - Python Data Structures\n",
    "\n",
    "Lists and Tuples\n",
    "\n",
    "Sets\n",
    "\n",
    "Dictionaries\n",
    "\n",
    "## Module 3 - Python Programming Fundamentals\n",
    "\n",
    "Conditions and Branching\n",
    "\n",
    "Loops\n",
    "\n",
    "Functions\n",
    "\n",
    "Objects and Classes\n",
    "\n",
    "## Module 4 - Working with Data in Python\n",
    "\n",
    "Reading files with open\n",
    "\n",
    "Writing files with open\n",
    "\n",
    "Loading data with Pandas\n",
    "\n",
    "Working with and Saving data with Pandas\n",
    "\n",
    "## Module 5 - Working with Numpy Arrays & Simple APIs\n",
    "\n",
    "Numpy 1D Arrays\n",
    "\n",
    "Numpy 2D Arrays\n",
    "\n",
    "Simple APIs\n",
    "\n",
    "API Setup"
   ]
  }
 ],
 "metadata": {
  "language_info": {
   "name": "python"
  },
  "orig_nbformat": 4
 },
 "nbformat": 4,
 "nbformat_minor": 2
}
